{
 "cells": [
  {
   "cell_type": "code",
   "execution_count": 1,
   "id": "initial_id",
   "metadata": {
    "collapsed": true,
    "ExecuteTime": {
     "end_time": "2023-08-02T07:14:53.284435170Z",
     "start_time": "2023-08-02T07:14:52.957389041Z"
    }
   },
   "outputs": [],
   "source": [
    "import pandas as pd"
   ]
  },
  {
   "cell_type": "code",
   "execution_count": 5,
   "outputs": [],
   "source": [
    "# To skip warning\n",
    "import warnings\n",
    "warnings.filterwarnings('ignore')"
   ],
   "metadata": {
    "collapsed": false,
    "ExecuteTime": {
     "end_time": "2023-08-02T07:23:43.133067192Z",
     "start_time": "2023-08-02T07:23:43.092043197Z"
    }
   },
   "id": "91260e0577cc2487"
  },
  {
   "cell_type": "code",
   "execution_count": 2,
   "outputs": [
    {
     "data": {
      "text/plain": "  Unnamed: 0  Sensor-1  Sensor-2   Sensor-3   Sensor-4  Sensor-5  Sensor-6  \\\n0  Wafer-801   2968.33   2476.58  2216.7333  1748.0885    1.1127     100.0   \n1  Wafer-802   2961.04   2506.43  2170.0666  1364.5157    1.5447     100.0   \n2  Wafer-803   3072.03   2500.68  2205.7445  1363.1048    1.0518     100.0   \n3  Wafer-804   3021.83   2419.83  2205.7445  1363.1048    1.0518     100.0   \n4  Wafer-805   3006.95   2435.34  2189.8111  1084.6502    1.1993     100.0   \n\n   Sensor-7  Sensor-8  Sensor-9  ...  Sensor-582  Sensor-583  Sensor-584  \\\n0   97.5822    0.1242    1.5300  ...         NaN      0.5004      0.0120   \n1   96.7700    0.1230    1.3953  ...         NaN      0.4994      0.0115   \n2  101.8644    0.1220    1.3896  ...         NaN      0.4987      0.0118   \n3  101.8644    0.1220    1.4108  ...         NaN      0.4934      0.0123   \n4  104.8856    0.1234    1.5094  ...         NaN      0.4987      0.0145   \n\n   Sensor-585  Sensor-586  Sensor-587  Sensor-588  Sensor-589  Sensor-590  \\\n0      0.0033      2.4069      0.0545      0.0184      0.0055     33.7876   \n1      0.0031      2.3020      0.0545      0.0184      0.0055     33.7876   \n2      0.0036      2.3719      0.0545      0.0184      0.0055     33.7876   \n3      0.0040      2.4923      0.0545      0.0184      0.0055     33.7876   \n4      0.0041      2.8991      0.0545      0.0184      0.0055     33.7876   \n\n   Good/Bad  \n0        -1  \n1         1  \n2        -1  \n3        -1  \n4        -1  \n\n[5 rows x 592 columns]",
      "text/html": "<div>\n<style scoped>\n    .dataframe tbody tr th:only-of-type {\n        vertical-align: middle;\n    }\n\n    .dataframe tbody tr th {\n        vertical-align: top;\n    }\n\n    .dataframe thead th {\n        text-align: right;\n    }\n</style>\n<table border=\"1\" class=\"dataframe\">\n  <thead>\n    <tr style=\"text-align: right;\">\n      <th></th>\n      <th>Unnamed: 0</th>\n      <th>Sensor-1</th>\n      <th>Sensor-2</th>\n      <th>Sensor-3</th>\n      <th>Sensor-4</th>\n      <th>Sensor-5</th>\n      <th>Sensor-6</th>\n      <th>Sensor-7</th>\n      <th>Sensor-8</th>\n      <th>Sensor-9</th>\n      <th>...</th>\n      <th>Sensor-582</th>\n      <th>Sensor-583</th>\n      <th>Sensor-584</th>\n      <th>Sensor-585</th>\n      <th>Sensor-586</th>\n      <th>Sensor-587</th>\n      <th>Sensor-588</th>\n      <th>Sensor-589</th>\n      <th>Sensor-590</th>\n      <th>Good/Bad</th>\n    </tr>\n  </thead>\n  <tbody>\n    <tr>\n      <th>0</th>\n      <td>Wafer-801</td>\n      <td>2968.33</td>\n      <td>2476.58</td>\n      <td>2216.7333</td>\n      <td>1748.0885</td>\n      <td>1.1127</td>\n      <td>100.0</td>\n      <td>97.5822</td>\n      <td>0.1242</td>\n      <td>1.5300</td>\n      <td>...</td>\n      <td>NaN</td>\n      <td>0.5004</td>\n      <td>0.0120</td>\n      <td>0.0033</td>\n      <td>2.4069</td>\n      <td>0.0545</td>\n      <td>0.0184</td>\n      <td>0.0055</td>\n      <td>33.7876</td>\n      <td>-1</td>\n    </tr>\n    <tr>\n      <th>1</th>\n      <td>Wafer-802</td>\n      <td>2961.04</td>\n      <td>2506.43</td>\n      <td>2170.0666</td>\n      <td>1364.5157</td>\n      <td>1.5447</td>\n      <td>100.0</td>\n      <td>96.7700</td>\n      <td>0.1230</td>\n      <td>1.3953</td>\n      <td>...</td>\n      <td>NaN</td>\n      <td>0.4994</td>\n      <td>0.0115</td>\n      <td>0.0031</td>\n      <td>2.3020</td>\n      <td>0.0545</td>\n      <td>0.0184</td>\n      <td>0.0055</td>\n      <td>33.7876</td>\n      <td>1</td>\n    </tr>\n    <tr>\n      <th>2</th>\n      <td>Wafer-803</td>\n      <td>3072.03</td>\n      <td>2500.68</td>\n      <td>2205.7445</td>\n      <td>1363.1048</td>\n      <td>1.0518</td>\n      <td>100.0</td>\n      <td>101.8644</td>\n      <td>0.1220</td>\n      <td>1.3896</td>\n      <td>...</td>\n      <td>NaN</td>\n      <td>0.4987</td>\n      <td>0.0118</td>\n      <td>0.0036</td>\n      <td>2.3719</td>\n      <td>0.0545</td>\n      <td>0.0184</td>\n      <td>0.0055</td>\n      <td>33.7876</td>\n      <td>-1</td>\n    </tr>\n    <tr>\n      <th>3</th>\n      <td>Wafer-804</td>\n      <td>3021.83</td>\n      <td>2419.83</td>\n      <td>2205.7445</td>\n      <td>1363.1048</td>\n      <td>1.0518</td>\n      <td>100.0</td>\n      <td>101.8644</td>\n      <td>0.1220</td>\n      <td>1.4108</td>\n      <td>...</td>\n      <td>NaN</td>\n      <td>0.4934</td>\n      <td>0.0123</td>\n      <td>0.0040</td>\n      <td>2.4923</td>\n      <td>0.0545</td>\n      <td>0.0184</td>\n      <td>0.0055</td>\n      <td>33.7876</td>\n      <td>-1</td>\n    </tr>\n    <tr>\n      <th>4</th>\n      <td>Wafer-805</td>\n      <td>3006.95</td>\n      <td>2435.34</td>\n      <td>2189.8111</td>\n      <td>1084.6502</td>\n      <td>1.1993</td>\n      <td>100.0</td>\n      <td>104.8856</td>\n      <td>0.1234</td>\n      <td>1.5094</td>\n      <td>...</td>\n      <td>NaN</td>\n      <td>0.4987</td>\n      <td>0.0145</td>\n      <td>0.0041</td>\n      <td>2.8991</td>\n      <td>0.0545</td>\n      <td>0.0184</td>\n      <td>0.0055</td>\n      <td>33.7876</td>\n      <td>-1</td>\n    </tr>\n  </tbody>\n</table>\n<p>5 rows × 592 columns</p>\n</div>"
     },
     "execution_count": 2,
     "metadata": {},
     "output_type": "execute_result"
    }
   ],
   "source": [
    "df = pd.read_csv('data/wafer_23012020_041211.csv')\n",
    "df.head()"
   ],
   "metadata": {
    "collapsed": false,
    "ExecuteTime": {
     "end_time": "2023-08-02T07:15:25.201035998Z",
     "start_time": "2023-08-02T07:15:25.128908738Z"
    }
   },
   "id": "340a89a6cf112b4d"
  },
  {
   "cell_type": "code",
   "execution_count": 6,
   "outputs": [
    {
     "data": {
      "text/plain": "Index(['Unnamed: 0', 'Sensor-1', 'Sensor-2', 'Sensor-3', 'Sensor-4',\n       'Sensor-5', 'Sensor-6', 'Sensor-7', 'Sensor-8', 'Sensor-9',\n       ...\n       'Sensor-582', 'Sensor-583', 'Sensor-584', 'Sensor-585', 'Sensor-586',\n       'Sensor-587', 'Sensor-588', 'Sensor-589', 'Sensor-590', 'Good/Bad'],\n      dtype='object', length=592)"
     },
     "execution_count": 6,
     "metadata": {},
     "output_type": "execute_result"
    }
   ],
   "source": [
    "# Check the list of features\n",
    "df.columns"
   ],
   "metadata": {
    "collapsed": false,
    "ExecuteTime": {
     "end_time": "2023-08-02T07:25:50.505174170Z",
     "start_time": "2023-08-02T07:25:50.457202009Z"
    }
   },
   "id": "c25bd5141900671f"
  },
  {
   "cell_type": "code",
   "execution_count": 7,
   "outputs": [
    {
     "data": {
      "text/plain": "(100, 592)"
     },
     "execution_count": 7,
     "metadata": {},
     "output_type": "execute_result"
    }
   ],
   "source": [
    "# Check the shape of the dataset\n",
    "df.shape"
   ],
   "metadata": {
    "collapsed": false,
    "ExecuteTime": {
     "end_time": "2023-08-02T07:26:05.277007012Z",
     "start_time": "2023-08-02T07:26:05.270643079Z"
    }
   },
   "id": "90025ef8777f0f44"
  },
  {
   "cell_type": "code",
   "execution_count": 15,
   "outputs": [
    {
     "name": "stdout",
     "output_type": "stream",
     "text": [
      "<class 'pandas.core.frame.DataFrame'>\n",
      "RangeIndex: 100 entries, 0 to 99\n",
      "Columns: 592 entries, Unnamed: 0 to Good/Bad\n",
      "dtypes: float64(494), int64(97), object(1)\n",
      "memory usage: 462.6+ KB\n"
     ]
    }
   ],
   "source": [
    "# Check the datatypes of the features\n",
    "df.info()"
   ],
   "metadata": {
    "collapsed": false,
    "ExecuteTime": {
     "end_time": "2023-08-02T07:28:16.831238561Z",
     "start_time": "2023-08-02T07:28:16.823965546Z"
    }
   },
   "id": "d07bc3fd8308107f"
  },
  {
   "cell_type": "code",
   "execution_count": 10,
   "outputs": [
    {
     "data": {
      "text/plain": "Unnamed: 0    0\nSensor-1      1\nSensor-2      0\nSensor-3      3\nSensor-4      3\n             ..\nSensor-587    0\nSensor-588    0\nSensor-589    0\nSensor-590    0\nGood/Bad      0\nLength: 592, dtype: int64"
     },
     "execution_count": 10,
     "metadata": {},
     "output_type": "execute_result"
    }
   ],
   "source": [
    "# Check for Null Values\n",
    "df.isnull().sum()"
   ],
   "metadata": {
    "collapsed": false,
    "ExecuteTime": {
     "start_time": "2023-08-02T07:26:51.758019918Z"
    }
   },
   "id": "ac35f66f3fecc658"
  },
  {
   "cell_type": "code",
   "execution_count": 16,
   "outputs": [
    {
     "data": {
      "text/plain": "0"
     },
     "execution_count": 16,
     "metadata": {},
     "output_type": "execute_result"
    }
   ],
   "source": [
    "# Check for duplicate record\n",
    "df.duplicated().sum()"
   ],
   "metadata": {
    "collapsed": false,
    "ExecuteTime": {
     "end_time": "2023-08-02T07:29:56.710313348Z",
     "start_time": "2023-08-02T07:29:56.705037629Z"
    }
   },
   "id": "c0ed79494e443438"
  },
  {
   "cell_type": "code",
   "execution_count": 24,
   "outputs": [
    {
     "name": "stdout",
     "output_type": "stream",
     "text": [
      "object\n",
      "float64\n",
      "float64\n",
      "float64\n",
      "float64\n",
      "float64\n",
      "float64\n",
      "float64\n",
      "float64\n",
      "float64\n",
      "float64\n",
      "float64\n",
      "float64\n",
      "float64\n",
      "int64\n",
      "float64\n",
      "float64\n",
      "float64\n",
      "float64\n",
      "float64\n",
      "float64\n",
      "float64\n",
      "float64\n",
      "float64\n",
      "float64\n",
      "float64\n",
      "float64\n",
      "float64\n",
      "float64\n",
      "float64\n",
      "float64\n",
      "float64\n",
      "float64\n",
      "float64\n",
      "float64\n",
      "float64\n",
      "float64\n",
      "float64\n",
      "float64\n",
      "float64\n",
      "float64\n",
      "float64\n",
      "float64\n",
      "int64\n",
      "float64\n",
      "float64\n",
      "float64\n",
      "float64\n",
      "float64\n",
      "float64\n",
      "int64\n",
      "float64\n",
      "float64\n",
      "int64\n",
      "float64\n",
      "float64\n",
      "float64\n",
      "float64\n",
      "float64\n",
      "float64\n",
      "float64\n",
      "float64\n",
      "float64\n",
      "float64\n",
      "float64\n",
      "float64\n",
      "float64\n",
      "float64\n",
      "float64\n",
      "float64\n",
      "float64\n",
      "float64\n",
      "float64\n",
      "float64\n",
      "float64\n",
      "float64\n",
      "float64\n",
      "float64\n",
      "float64\n",
      "float64\n",
      "float64\n",
      "float64\n",
      "float64\n",
      "float64\n",
      "float64\n",
      "float64\n",
      "float64\n",
      "float64\n",
      "float64\n",
      "float64\n",
      "float64\n",
      "float64\n",
      "float64\n",
      "float64\n",
      "float64\n",
      "float64\n",
      "float64\n",
      "float64\n",
      "int64\n",
      "float64\n",
      "float64\n",
      "float64\n",
      "float64\n",
      "float64\n",
      "float64\n",
      "float64\n",
      "float64\n",
      "float64\n",
      "float64\n",
      "float64\n",
      "float64\n",
      "float64\n",
      "float64\n",
      "float64\n",
      "float64\n",
      "float64\n",
      "float64\n",
      "float64\n",
      "float64\n",
      "float64\n",
      "float64\n",
      "float64\n",
      "float64\n",
      "float64\n",
      "float64\n",
      "float64\n",
      "float64\n",
      "float64\n",
      "float64\n",
      "float64\n",
      "float64\n",
      "float64\n",
      "float64\n",
      "float64\n",
      "float64\n",
      "float64\n",
      "int64\n",
      "float64\n",
      "float64\n",
      "float64\n",
      "float64\n",
      "float64\n",
      "float64\n",
      "float64\n",
      "float64\n",
      "float64\n",
      "float64\n",
      "float64\n",
      "float64\n",
      "float64\n",
      "int64\n",
      "float64\n",
      "float64\n",
      "float64\n",
      "float64\n",
      "float64\n",
      "float64\n",
      "float64\n",
      "float64\n",
      "float64\n",
      "int64\n",
      "int64\n",
      "int64\n",
      "int64\n",
      "float64\n",
      "float64\n",
      "float64\n",
      "float64\n",
      "float64\n",
      "float64\n",
      "float64\n",
      "float64\n",
      "float64\n",
      "float64\n",
      "float64\n",
      "float64\n",
      "float64\n",
      "float64\n",
      "float64\n",
      "float64\n",
      "int64\n",
      "float64\n",
      "float64\n",
      "float64\n",
      "float64\n",
      "float64\n",
      "float64\n",
      "int64\n",
      "float64\n",
      "float64\n",
      "int64\n",
      "float64\n",
      "float64\n",
      "float64\n",
      "float64\n",
      "float64\n",
      "float64\n",
      "float64\n",
      "float64\n",
      "float64\n",
      "float64\n",
      "float64\n",
      "float64\n",
      "float64\n",
      "float64\n",
      "float64\n",
      "float64\n",
      "float64\n",
      "float64\n",
      "float64\n",
      "float64\n",
      "float64\n",
      "float64\n",
      "float64\n",
      "float64\n",
      "float64\n",
      "float64\n",
      "float64\n",
      "float64\n",
      "float64\n",
      "float64\n",
      "float64\n",
      "float64\n",
      "float64\n",
      "float64\n",
      "float64\n",
      "float64\n",
      "int64\n",
      "float64\n",
      "float64\n",
      "int64\n",
      "int64\n",
      "int64\n",
      "int64\n",
      "int64\n",
      "int64\n",
      "int64\n",
      "int64\n",
      "int64\n",
      "float64\n",
      "float64\n",
      "int64\n",
      "int64\n",
      "int64\n",
      "int64\n",
      "float64\n",
      "float64\n",
      "float64\n",
      "float64\n",
      "float64\n",
      "float64\n",
      "float64\n",
      "float64\n",
      "float64\n",
      "float64\n",
      "float64\n",
      "float64\n",
      "int64\n",
      "int64\n",
      "int64\n",
      "int64\n",
      "int64\n",
      "int64\n",
      "int64\n",
      "int64\n",
      "int64\n",
      "int64\n",
      "int64\n",
      "float64\n",
      "float64\n",
      "float64\n",
      "float64\n",
      "float64\n",
      "float64\n",
      "float64\n",
      "float64\n",
      "float64\n",
      "float64\n",
      "float64\n",
      "float64\n",
      "float64\n",
      "float64\n",
      "float64\n",
      "float64\n",
      "float64\n",
      "int64\n",
      "float64\n",
      "float64\n",
      "float64\n",
      "float64\n",
      "float64\n",
      "float64\n",
      "float64\n",
      "float64\n",
      "float64\n",
      "float64\n",
      "float64\n",
      "float64\n",
      "float64\n",
      "float64\n",
      "float64\n",
      "float64\n",
      "float64\n",
      "float64\n",
      "float64\n",
      "float64\n",
      "float64\n",
      "float64\n",
      "float64\n",
      "float64\n",
      "float64\n",
      "float64\n",
      "float64\n",
      "float64\n",
      "float64\n",
      "float64\n",
      "int64\n",
      "float64\n",
      "float64\n",
      "float64\n",
      "float64\n",
      "float64\n",
      "float64\n",
      "int64\n",
      "float64\n",
      "float64\n",
      "int64\n",
      "float64\n",
      "float64\n",
      "float64\n",
      "float64\n",
      "float64\n",
      "float64\n",
      "float64\n",
      "float64\n",
      "float64\n",
      "float64\n",
      "float64\n",
      "float64\n",
      "float64\n",
      "float64\n",
      "float64\n",
      "float64\n",
      "float64\n",
      "float64\n",
      "float64\n",
      "float64\n",
      "float64\n",
      "float64\n",
      "float64\n",
      "float64\n",
      "float64\n",
      "float64\n",
      "float64\n",
      "float64\n",
      "float64\n",
      "float64\n",
      "float64\n",
      "float64\n",
      "float64\n",
      "float64\n",
      "float64\n",
      "float64\n",
      "float64\n",
      "float64\n",
      "int64\n",
      "float64\n",
      "float64\n",
      "float64\n",
      "float64\n",
      "int64\n",
      "int64\n",
      "int64\n",
      "int64\n",
      "int64\n",
      "int64\n",
      "int64\n",
      "float64\n",
      "float64\n",
      "int64\n",
      "int64\n",
      "int64\n",
      "int64\n",
      "float64\n",
      "float64\n",
      "float64\n",
      "float64\n",
      "float64\n",
      "float64\n",
      "float64\n",
      "float64\n",
      "float64\n",
      "float64\n",
      "float64\n",
      "float64\n",
      "int64\n",
      "int64\n",
      "int64\n",
      "int64\n",
      "int64\n",
      "int64\n",
      "int64\n",
      "int64\n",
      "int64\n",
      "int64\n",
      "int64\n",
      "float64\n",
      "float64\n",
      "float64\n",
      "float64\n",
      "float64\n",
      "float64\n",
      "float64\n",
      "float64\n",
      "float64\n",
      "float64\n",
      "float64\n",
      "float64\n",
      "float64\n",
      "float64\n",
      "float64\n",
      "float64\n",
      "float64\n",
      "int64\n",
      "float64\n",
      "float64\n",
      "float64\n",
      "float64\n",
      "float64\n",
      "float64\n",
      "float64\n",
      "float64\n",
      "float64\n",
      "float64\n",
      "float64\n",
      "float64\n",
      "float64\n",
      "float64\n",
      "float64\n",
      "float64\n",
      "float64\n",
      "float64\n",
      "float64\n",
      "float64\n",
      "float64\n",
      "float64\n",
      "float64\n",
      "float64\n",
      "float64\n",
      "float64\n",
      "float64\n",
      "float64\n",
      "int64\n",
      "float64\n",
      "float64\n",
      "float64\n",
      "float64\n",
      "float64\n",
      "float64\n",
      "int64\n",
      "float64\n",
      "float64\n",
      "int64\n",
      "float64\n",
      "float64\n",
      "float64\n",
      "float64\n",
      "float64\n",
      "float64\n",
      "float64\n",
      "float64\n",
      "float64\n",
      "float64\n",
      "float64\n",
      "float64\n",
      "float64\n",
      "float64\n",
      "float64\n",
      "float64\n",
      "float64\n",
      "float64\n",
      "float64\n",
      "float64\n",
      "float64\n",
      "float64\n",
      "float64\n",
      "float64\n",
      "float64\n",
      "float64\n",
      "float64\n",
      "float64\n",
      "float64\n",
      "float64\n",
      "float64\n",
      "float64\n",
      "float64\n",
      "float64\n",
      "float64\n",
      "float64\n",
      "int64\n",
      "float64\n",
      "float64\n",
      "int64\n",
      "int64\n",
      "int64\n",
      "int64\n",
      "int64\n",
      "int64\n",
      "int64\n",
      "int64\n",
      "int64\n",
      "float64\n",
      "float64\n",
      "int64\n",
      "int64\n",
      "int64\n",
      "int64\n",
      "float64\n",
      "float64\n",
      "float64\n",
      "float64\n",
      "float64\n",
      "int64\n",
      "float64\n",
      "float64\n",
      "float64\n",
      "float64\n",
      "float64\n",
      "float64\n",
      "int64\n",
      "int64\n",
      "int64\n",
      "int64\n",
      "int64\n",
      "int64\n",
      "int64\n",
      "int64\n",
      "int64\n",
      "int64\n",
      "int64\n",
      "float64\n",
      "float64\n",
      "float64\n",
      "float64\n",
      "float64\n",
      "float64\n",
      "float64\n",
      "float64\n",
      "float64\n",
      "float64\n",
      "float64\n",
      "float64\n",
      "float64\n",
      "float64\n",
      "float64\n",
      "float64\n",
      "float64\n",
      "float64\n",
      "float64\n",
      "float64\n",
      "float64\n",
      "float64\n",
      "float64\n",
      "float64\n",
      "float64\n",
      "float64\n",
      "float64\n",
      "float64\n",
      "float64\n",
      "float64\n",
      "float64\n",
      "float64\n",
      "float64\n",
      "float64\n",
      "float64\n",
      "float64\n",
      "float64\n",
      "float64\n",
      "float64\n",
      "float64\n",
      "float64\n",
      "float64\n",
      "float64\n",
      "float64\n",
      "float64\n",
      "float64\n",
      "float64\n",
      "float64\n",
      "float64\n",
      "float64\n",
      "float64\n",
      "int64\n"
     ]
    }
   ],
   "source": [
    "for x in df.columns:\n",
    "    print(df[x].dtype)"
   ],
   "metadata": {
    "collapsed": false,
    "ExecuteTime": {
     "end_time": "2023-08-02T07:32:53.597775545Z",
     "start_time": "2023-08-02T07:32:53.588037022Z"
    }
   },
   "id": "9a0589865acd868f"
  },
  {
   "cell_type": "code",
   "execution_count": 26,
   "outputs": [],
   "source": [
    "# Segregate Numerical and Categorical Columns\n",
    "numerical_features = [feature for feature in df.columns if df[feature].dtype != object]\n",
    "categorical_features = [feature for feature in df.columns if df[feature].dtype == object]"
   ],
   "metadata": {
    "collapsed": false,
    "ExecuteTime": {
     "end_time": "2023-08-02T07:35:26.184956883Z",
     "start_time": "2023-08-02T07:35:26.136813860Z"
    }
   },
   "id": "2f44ea53b5e2e7c4"
  },
  {
   "cell_type": "code",
   "execution_count": 27,
   "outputs": [
    {
     "data": {
      "text/plain": "['Unnamed: 0']"
     },
     "execution_count": 27,
     "metadata": {},
     "output_type": "execute_result"
    }
   ],
   "source": [
    "categorical_features"
   ],
   "metadata": {
    "collapsed": false,
    "ExecuteTime": {
     "end_time": "2023-08-02T07:35:29.871545138Z",
     "start_time": "2023-08-02T07:35:29.855021872Z"
    }
   },
   "id": "9fb91b57eff8c4bc"
  },
  {
   "cell_type": "code",
   "execution_count": 28,
   "outputs": [
    {
     "data": {
      "text/plain": "['Sensor-1',\n 'Sensor-2',\n 'Sensor-3',\n 'Sensor-4',\n 'Sensor-5',\n 'Sensor-6',\n 'Sensor-7',\n 'Sensor-8',\n 'Sensor-9',\n 'Sensor-10',\n 'Sensor-11',\n 'Sensor-12',\n 'Sensor-13',\n 'Sensor-14',\n 'Sensor-15',\n 'Sensor-16',\n 'Sensor-17',\n 'Sensor-18',\n 'Sensor-19',\n 'Sensor-20',\n 'Sensor-21',\n 'Sensor-22',\n 'Sensor-23',\n 'Sensor-24',\n 'Sensor-25',\n 'Sensor-26',\n 'Sensor-27',\n 'Sensor-28',\n 'Sensor-29',\n 'Sensor-30',\n 'Sensor-31',\n 'Sensor-32',\n 'Sensor-33',\n 'Sensor-34',\n 'Sensor-35',\n 'Sensor-36',\n 'Sensor-37',\n 'Sensor-38',\n 'Sensor-39',\n 'Sensor-40',\n 'Sensor-41',\n 'Sensor-42',\n 'Sensor-43',\n 'Sensor-44',\n 'Sensor-45',\n 'Sensor-46',\n 'Sensor-47',\n 'Sensor-48',\n 'Sensor-49',\n 'Sensor-50',\n 'Sensor-51',\n 'Sensor-52',\n 'Sensor-53',\n 'Sensor-54',\n 'Sensor-55',\n 'Sensor-56',\n 'Sensor-57',\n 'Sensor-58',\n 'Sensor-59',\n 'Sensor-60',\n 'Sensor-61',\n 'Sensor-62',\n 'Sensor-63',\n 'Sensor-64',\n 'Sensor-65',\n 'Sensor-66',\n 'Sensor-67',\n 'Sensor-68',\n 'Sensor-69',\n 'Sensor-70',\n 'Sensor-71',\n 'Sensor-72',\n 'Sensor-73',\n 'Sensor-74',\n 'Sensor-75',\n 'Sensor-76',\n 'Sensor-77',\n 'Sensor-78',\n 'Sensor-79',\n 'Sensor-80',\n 'Sensor-81',\n 'Sensor-82',\n 'Sensor-83',\n 'Sensor-84',\n 'Sensor-85',\n 'Sensor-86',\n 'Sensor-87',\n 'Sensor-88',\n 'Sensor-89',\n 'Sensor-90',\n 'Sensor-91',\n 'Sensor-92',\n 'Sensor-93',\n 'Sensor-94',\n 'Sensor-95',\n 'Sensor-96',\n 'Sensor-97',\n 'Sensor-98',\n 'Sensor-99',\n 'Sensor-100',\n 'Sensor-101',\n 'Sensor-102',\n 'Sensor-103',\n 'Sensor-104',\n 'Sensor-105',\n 'Sensor-106',\n 'Sensor-107',\n 'Sensor-108',\n 'Sensor-109',\n 'Sensor-110',\n 'Sensor-111',\n 'Sensor-112',\n 'Sensor-113',\n 'Sensor-114',\n 'Sensor-115',\n 'Sensor-116',\n 'Sensor-117',\n 'Sensor-118',\n 'Sensor-119',\n 'Sensor-120',\n 'Sensor-121',\n 'Sensor-122',\n 'Sensor-123',\n 'Sensor-124',\n 'Sensor-125',\n 'Sensor-126',\n 'Sensor-127',\n 'Sensor-128',\n 'Sensor-129',\n 'Sensor-130',\n 'Sensor-131',\n 'Sensor-132',\n 'Sensor-133',\n 'Sensor-134',\n 'Sensor-135',\n 'Sensor-136',\n 'Sensor-137',\n 'Sensor-138',\n 'Sensor-139',\n 'Sensor-140',\n 'Sensor-141',\n 'Sensor-142',\n 'Sensor-143',\n 'Sensor-144',\n 'Sensor-145',\n 'Sensor-146',\n 'Sensor-147',\n 'Sensor-148',\n 'Sensor-149',\n 'Sensor-150',\n 'Sensor-151',\n 'Sensor-152',\n 'Sensor-153',\n 'Sensor-154',\n 'Sensor-155',\n 'Sensor-156',\n 'Sensor-157',\n 'Sensor-158',\n 'Sensor-159',\n 'Sensor-160',\n 'Sensor-161',\n 'Sensor-162',\n 'Sensor-163',\n 'Sensor-164',\n 'Sensor-165',\n 'Sensor-166',\n 'Sensor-167',\n 'Sensor-168',\n 'Sensor-169',\n 'Sensor-170',\n 'Sensor-171',\n 'Sensor-172',\n 'Sensor-173',\n 'Sensor-174',\n 'Sensor-175',\n 'Sensor-176',\n 'Sensor-177',\n 'Sensor-178',\n 'Sensor-179',\n 'Sensor-180',\n 'Sensor-181',\n 'Sensor-182',\n 'Sensor-183',\n 'Sensor-184',\n 'Sensor-185',\n 'Sensor-186',\n 'Sensor-187',\n 'Sensor-188',\n 'Sensor-189',\n 'Sensor-190',\n 'Sensor-191',\n 'Sensor-192',\n 'Sensor-193',\n 'Sensor-194',\n 'Sensor-195',\n 'Sensor-196',\n 'Sensor-197',\n 'Sensor-198',\n 'Sensor-199',\n 'Sensor-200',\n 'Sensor-201',\n 'Sensor-202',\n 'Sensor-203',\n 'Sensor-204',\n 'Sensor-205',\n 'Sensor-206',\n 'Sensor-207',\n 'Sensor-208',\n 'Sensor-209',\n 'Sensor-210',\n 'Sensor-211',\n 'Sensor-212',\n 'Sensor-213',\n 'Sensor-214',\n 'Sensor-215',\n 'Sensor-216',\n 'Sensor-217',\n 'Sensor-218',\n 'Sensor-219',\n 'Sensor-220',\n 'Sensor-221',\n 'Sensor-222',\n 'Sensor-223',\n 'Sensor-224',\n 'Sensor-225',\n 'Sensor-226',\n 'Sensor-227',\n 'Sensor-228',\n 'Sensor-229',\n 'Sensor-230',\n 'Sensor-231',\n 'Sensor-232',\n 'Sensor-233',\n 'Sensor-234',\n 'Sensor-235',\n 'Sensor-236',\n 'Sensor-237',\n 'Sensor-238',\n 'Sensor-239',\n 'Sensor-240',\n 'Sensor-241',\n 'Sensor-242',\n 'Sensor-243',\n 'Sensor-244',\n 'Sensor-245',\n 'Sensor-246',\n 'Sensor-247',\n 'Sensor-248',\n 'Sensor-249',\n 'Sensor-250',\n 'Sensor-251',\n 'Sensor-252',\n 'Sensor-253',\n 'Sensor-254',\n 'Sensor-255',\n 'Sensor-256',\n 'Sensor-257',\n 'Sensor-258',\n 'Sensor-259',\n 'Sensor-260',\n 'Sensor-261',\n 'Sensor-262',\n 'Sensor-263',\n 'Sensor-264',\n 'Sensor-265',\n 'Sensor-266',\n 'Sensor-267',\n 'Sensor-268',\n 'Sensor-269',\n 'Sensor-270',\n 'Sensor-271',\n 'Sensor-272',\n 'Sensor-273',\n 'Sensor-274',\n 'Sensor-275',\n 'Sensor-276',\n 'Sensor-277',\n 'Sensor-278',\n 'Sensor-279',\n 'Sensor-280',\n 'Sensor-281',\n 'Sensor-282',\n 'Sensor-283',\n 'Sensor-284',\n 'Sensor-285',\n 'Sensor-286',\n 'Sensor-287',\n 'Sensor-288',\n 'Sensor-289',\n 'Sensor-290',\n 'Sensor-291',\n 'Sensor-292',\n 'Sensor-293',\n 'Sensor-294',\n 'Sensor-295',\n 'Sensor-296',\n 'Sensor-297',\n 'Sensor-298',\n 'Sensor-299',\n 'Sensor-300',\n 'Sensor-301',\n 'Sensor-302',\n 'Sensor-303',\n 'Sensor-304',\n 'Sensor-305',\n 'Sensor-306',\n 'Sensor-307',\n 'Sensor-308',\n 'Sensor-309',\n 'Sensor-310',\n 'Sensor-311',\n 'Sensor-312',\n 'Sensor-313',\n 'Sensor-314',\n 'Sensor-315',\n 'Sensor-316',\n 'Sensor-317',\n 'Sensor-318',\n 'Sensor-319',\n 'Sensor-320',\n 'Sensor-321',\n 'Sensor-322',\n 'Sensor-323',\n 'Sensor-324',\n 'Sensor-325',\n 'Sensor-326',\n 'Sensor-327',\n 'Sensor-328',\n 'Sensor-329',\n 'Sensor-330',\n 'Sensor-331',\n 'Sensor-332',\n 'Sensor-333',\n 'Sensor-334',\n 'Sensor-335',\n 'Sensor-336',\n 'Sensor-337',\n 'Sensor-338',\n 'Sensor-339',\n 'Sensor-340',\n 'Sensor-341',\n 'Sensor-342',\n 'Sensor-343',\n 'Sensor-344',\n 'Sensor-345',\n 'Sensor-346',\n 'Sensor-347',\n 'Sensor-348',\n 'Sensor-349',\n 'Sensor-350',\n 'Sensor-351',\n 'Sensor-352',\n 'Sensor-353',\n 'Sensor-354',\n 'Sensor-355',\n 'Sensor-356',\n 'Sensor-357',\n 'Sensor-358',\n 'Sensor-359',\n 'Sensor-360',\n 'Sensor-361',\n 'Sensor-362',\n 'Sensor-363',\n 'Sensor-364',\n 'Sensor-365',\n 'Sensor-366',\n 'Sensor-367',\n 'Sensor-368',\n 'Sensor-369',\n 'Sensor-370',\n 'Sensor-371',\n 'Sensor-372',\n 'Sensor-373',\n 'Sensor-374',\n 'Sensor-375',\n 'Sensor-376',\n 'Sensor-377',\n 'Sensor-378',\n 'Sensor-379',\n 'Sensor-380',\n 'Sensor-381',\n 'Sensor-382',\n 'Sensor-383',\n 'Sensor-384',\n 'Sensor-385',\n 'Sensor-386',\n 'Sensor-387',\n 'Sensor-388',\n 'Sensor-389',\n 'Sensor-390',\n 'Sensor-391',\n 'Sensor-392',\n 'Sensor-393',\n 'Sensor-394',\n 'Sensor-395',\n 'Sensor-396',\n 'Sensor-397',\n 'Sensor-398',\n 'Sensor-399',\n 'Sensor-400',\n 'Sensor-401',\n 'Sensor-402',\n 'Sensor-403',\n 'Sensor-404',\n 'Sensor-405',\n 'Sensor-406',\n 'Sensor-407',\n 'Sensor-408',\n 'Sensor-409',\n 'Sensor-410',\n 'Sensor-411',\n 'Sensor-412',\n 'Sensor-413',\n 'Sensor-414',\n 'Sensor-415',\n 'Sensor-416',\n 'Sensor-417',\n 'Sensor-418',\n 'Sensor-419',\n 'Sensor-420',\n 'Sensor-421',\n 'Sensor-422',\n 'Sensor-423',\n 'Sensor-424',\n 'Sensor-425',\n 'Sensor-426',\n 'Sensor-427',\n 'Sensor-428',\n 'Sensor-429',\n 'Sensor-430',\n 'Sensor-431',\n 'Sensor-432',\n 'Sensor-433',\n 'Sensor-434',\n 'Sensor-435',\n 'Sensor-436',\n 'Sensor-437',\n 'Sensor-438',\n 'Sensor-439',\n 'Sensor-440',\n 'Sensor-441',\n 'Sensor-442',\n 'Sensor-443',\n 'Sensor-444',\n 'Sensor-445',\n 'Sensor-446',\n 'Sensor-447',\n 'Sensor-448',\n 'Sensor-449',\n 'Sensor-450',\n 'Sensor-451',\n 'Sensor-452',\n 'Sensor-453',\n 'Sensor-454',\n 'Sensor-455',\n 'Sensor-456',\n 'Sensor-457',\n 'Sensor-458',\n 'Sensor-459',\n 'Sensor-460',\n 'Sensor-461',\n 'Sensor-462',\n 'Sensor-463',\n 'Sensor-464',\n 'Sensor-465',\n 'Sensor-466',\n 'Sensor-467',\n 'Sensor-468',\n 'Sensor-469',\n 'Sensor-470',\n 'Sensor-471',\n 'Sensor-472',\n 'Sensor-473',\n 'Sensor-474',\n 'Sensor-475',\n 'Sensor-476',\n 'Sensor-477',\n 'Sensor-478',\n 'Sensor-479',\n 'Sensor-480',\n 'Sensor-481',\n 'Sensor-482',\n 'Sensor-483',\n 'Sensor-484',\n 'Sensor-485',\n 'Sensor-486',\n 'Sensor-487',\n 'Sensor-488',\n 'Sensor-489',\n 'Sensor-490',\n 'Sensor-491',\n 'Sensor-492',\n 'Sensor-493',\n 'Sensor-494',\n 'Sensor-495',\n 'Sensor-496',\n 'Sensor-497',\n 'Sensor-498',\n 'Sensor-499',\n 'Sensor-500',\n 'Sensor-501',\n 'Sensor-502',\n 'Sensor-503',\n 'Sensor-504',\n 'Sensor-505',\n 'Sensor-506',\n 'Sensor-507',\n 'Sensor-508',\n 'Sensor-509',\n 'Sensor-510',\n 'Sensor-511',\n 'Sensor-512',\n 'Sensor-513',\n 'Sensor-514',\n 'Sensor-515',\n 'Sensor-516',\n 'Sensor-517',\n 'Sensor-518',\n 'Sensor-519',\n 'Sensor-520',\n 'Sensor-521',\n 'Sensor-522',\n 'Sensor-523',\n 'Sensor-524',\n 'Sensor-525',\n 'Sensor-526',\n 'Sensor-527',\n 'Sensor-528',\n 'Sensor-529',\n 'Sensor-530',\n 'Sensor-531',\n 'Sensor-532',\n 'Sensor-533',\n 'Sensor-534',\n 'Sensor-535',\n 'Sensor-536',\n 'Sensor-537',\n 'Sensor-538',\n 'Sensor-539',\n 'Sensor-540',\n 'Sensor-541',\n 'Sensor-542',\n 'Sensor-543',\n 'Sensor-544',\n 'Sensor-545',\n 'Sensor-546',\n 'Sensor-547',\n 'Sensor-548',\n 'Sensor-549',\n 'Sensor-550',\n 'Sensor-551',\n 'Sensor-552',\n 'Sensor-553',\n 'Sensor-554',\n 'Sensor-555',\n 'Sensor-556',\n 'Sensor-557',\n 'Sensor-558',\n 'Sensor-559',\n 'Sensor-560',\n 'Sensor-561',\n 'Sensor-562',\n 'Sensor-563',\n 'Sensor-564',\n 'Sensor-565',\n 'Sensor-566',\n 'Sensor-567',\n 'Sensor-568',\n 'Sensor-569',\n 'Sensor-570',\n 'Sensor-571',\n 'Sensor-572',\n 'Sensor-573',\n 'Sensor-574',\n 'Sensor-575',\n 'Sensor-576',\n 'Sensor-577',\n 'Sensor-578',\n 'Sensor-579',\n 'Sensor-580',\n 'Sensor-581',\n 'Sensor-582',\n 'Sensor-583',\n 'Sensor-584',\n 'Sensor-585',\n 'Sensor-586',\n 'Sensor-587',\n 'Sensor-588',\n 'Sensor-589',\n 'Sensor-590',\n 'Good/Bad']"
     },
     "execution_count": 28,
     "metadata": {},
     "output_type": "execute_result"
    }
   ],
   "source": [
    "numerical_features"
   ],
   "metadata": {
    "collapsed": false,
    "ExecuteTime": {
     "end_time": "2023-08-02T07:35:37.076247948Z",
     "start_time": "2023-08-02T07:35:37.061232643Z"
    }
   },
   "id": "e82ec57c026ae467"
  },
  {
   "cell_type": "code",
   "execution_count": 32,
   "outputs": [
    {
     "data": {
      "text/plain": "Good/Bad\n-1    94\n 1     6\nName: count, dtype: int64"
     },
     "execution_count": 32,
     "metadata": {},
     "output_type": "execute_result"
    }
   ],
   "source": [
    "df['Good/Bad'].value_counts()"
   ],
   "metadata": {
    "collapsed": false,
    "ExecuteTime": {
     "end_time": "2023-08-02T07:37:15.497797284Z",
     "start_time": "2023-08-02T07:37:15.488044786Z"
    }
   },
   "id": "e25afc861107dd1c"
  },
  {
   "cell_type": "code",
   "execution_count": 36,
   "outputs": [
    {
     "data": {
      "text/plain": "99"
     },
     "execution_count": 36,
     "metadata": {},
     "output_type": "execute_result"
    }
   ],
   "source": [
    "df['Sensor-1'].value_counts().sum()"
   ],
   "metadata": {
    "collapsed": false,
    "ExecuteTime": {
     "end_time": "2023-08-02T07:39:37.124881262Z",
     "start_time": "2023-08-02T07:39:37.083274181Z"
    }
   },
   "id": "79b86ba9a542fc1f"
  },
  {
   "cell_type": "code",
   "execution_count": 42,
   "outputs": [
    {
     "data": {
      "text/plain": "            Sensor-1  Sensor-2  Sensor-3  Sensor-4  Sensor-5  Sensor-6  \\\nSensor-1    1.000000 -0.133807  0.100970 -0.198996 -0.244793       NaN   \nSensor-2   -0.133807  1.000000  0.020825  0.083883  0.163761       NaN   \nSensor-3    0.100970  0.020825  1.000000  0.364564  0.065173       NaN   \nSensor-4   -0.198996  0.083883  0.364564  1.000000  0.517363       NaN   \nSensor-5   -0.244793  0.163761  0.065173  0.517363  1.000000       NaN   \n...              ...       ...       ...       ...       ...       ...   \nSensor-587 -0.149539 -0.043370 -0.074197 -0.075850 -0.017722       NaN   \nSensor-588  0.018507  0.039487  0.088880 -0.007325  0.192701       NaN   \nSensor-589 -0.012796  0.031855  0.109317 -0.016494  0.197198       NaN   \nSensor-590  0.167713  0.056822  0.114363  0.032724  0.183857       NaN   \nGood/Bad    0.021608 -0.056293  0.301747  0.201612  0.162364       NaN   \n\n            Sensor-7  Sensor-8  Sensor-9  Sensor-10  ...  Sensor-582  \\\nSensor-1    0.138219 -0.238387 -0.039840   0.036264  ...   -0.072083   \nSensor-2   -0.138881  0.080548  0.077252  -0.000620  ...    0.185795   \nSensor-3   -0.278507 -0.683202  0.326166   0.221956  ...    0.070021   \nSensor-4   -0.889259  0.304394  0.199940   0.164810  ...   -0.086621   \nSensor-5   -0.543439  0.291460  0.180967   0.101561  ...   -0.227416   \n...              ...       ...       ...        ...  ...         ...   \nSensor-587  0.139181  0.069692 -0.031285  -0.138607  ...   -0.405437   \nSensor-588  0.042269  0.031813  0.134034  -0.090211  ...    0.499645   \nSensor-589  0.046724  0.008075  0.153953  -0.107615  ...    0.451550   \nSensor-590 -0.054253 -0.007885  0.149035   0.010122  ...    1.000000   \nGood/Bad   -0.105645 -0.245978  0.154444   0.234698  ...   -0.182843   \n\n            Sensor-583  Sensor-584  Sensor-585  Sensor-586  Sensor-587  \\\nSensor-1     -0.036424   -0.009019   -0.016644   -0.008813   -0.149539   \nSensor-2     -0.014546    0.087182    0.005537    0.087179   -0.043370   \nSensor-3      0.253750    0.039091    0.021278    0.034628   -0.074197   \nSensor-4      0.068147    0.076245    0.090138    0.075786   -0.075850   \nSensor-5     -0.002327   -0.016044   -0.069025   -0.016287   -0.017722   \n...                ...         ...         ...         ...         ...   \nSensor-587   -0.019664    0.037172    0.076298    0.038514    1.000000   \nSensor-588   -0.071864    0.116441    0.094689    0.116934    0.273511   \nSensor-589   -0.044741    0.072776    0.050410    0.072741    0.262794   \nSensor-590   -0.086170    0.032028   -0.005596    0.031873   -0.511293   \nGood/Bad      0.200569   -0.058351   -0.091851   -0.062407   -0.054914   \n\n            Sensor-588  Sensor-589  Sensor-590  Good/Bad  \nSensor-1      0.018507   -0.012796    0.167713  0.021608  \nSensor-2      0.039487    0.031855    0.056822 -0.056293  \nSensor-3      0.088880    0.109317    0.114363  0.301747  \nSensor-4     -0.007325   -0.016494    0.032724  0.201612  \nSensor-5      0.192701    0.197198    0.183857  0.162364  \n...                ...         ...         ...       ...  \nSensor-587    0.273511    0.262794   -0.511293 -0.054914  \nSensor-588    1.000000    0.976905    0.605905 -0.101636  \nSensor-589    0.976905    1.000000    0.605447 -0.085591  \nSensor-590    0.605905    0.605447    1.000000 -0.018571  \nGood/Bad     -0.101636   -0.085591   -0.018571  1.000000  \n\n[591 rows x 591 columns]",
      "text/html": "<div>\n<style scoped>\n    .dataframe tbody tr th:only-of-type {\n        vertical-align: middle;\n    }\n\n    .dataframe tbody tr th {\n        vertical-align: top;\n    }\n\n    .dataframe thead th {\n        text-align: right;\n    }\n</style>\n<table border=\"1\" class=\"dataframe\">\n  <thead>\n    <tr style=\"text-align: right;\">\n      <th></th>\n      <th>Sensor-1</th>\n      <th>Sensor-2</th>\n      <th>Sensor-3</th>\n      <th>Sensor-4</th>\n      <th>Sensor-5</th>\n      <th>Sensor-6</th>\n      <th>Sensor-7</th>\n      <th>Sensor-8</th>\n      <th>Sensor-9</th>\n      <th>Sensor-10</th>\n      <th>...</th>\n      <th>Sensor-582</th>\n      <th>Sensor-583</th>\n      <th>Sensor-584</th>\n      <th>Sensor-585</th>\n      <th>Sensor-586</th>\n      <th>Sensor-587</th>\n      <th>Sensor-588</th>\n      <th>Sensor-589</th>\n      <th>Sensor-590</th>\n      <th>Good/Bad</th>\n    </tr>\n  </thead>\n  <tbody>\n    <tr>\n      <th>Sensor-1</th>\n      <td>1.000000</td>\n      <td>-0.133807</td>\n      <td>0.100970</td>\n      <td>-0.198996</td>\n      <td>-0.244793</td>\n      <td>NaN</td>\n      <td>0.138219</td>\n      <td>-0.238387</td>\n      <td>-0.039840</td>\n      <td>0.036264</td>\n      <td>...</td>\n      <td>-0.072083</td>\n      <td>-0.036424</td>\n      <td>-0.009019</td>\n      <td>-0.016644</td>\n      <td>-0.008813</td>\n      <td>-0.149539</td>\n      <td>0.018507</td>\n      <td>-0.012796</td>\n      <td>0.167713</td>\n      <td>0.021608</td>\n    </tr>\n    <tr>\n      <th>Sensor-2</th>\n      <td>-0.133807</td>\n      <td>1.000000</td>\n      <td>0.020825</td>\n      <td>0.083883</td>\n      <td>0.163761</td>\n      <td>NaN</td>\n      <td>-0.138881</td>\n      <td>0.080548</td>\n      <td>0.077252</td>\n      <td>-0.000620</td>\n      <td>...</td>\n      <td>0.185795</td>\n      <td>-0.014546</td>\n      <td>0.087182</td>\n      <td>0.005537</td>\n      <td>0.087179</td>\n      <td>-0.043370</td>\n      <td>0.039487</td>\n      <td>0.031855</td>\n      <td>0.056822</td>\n      <td>-0.056293</td>\n    </tr>\n    <tr>\n      <th>Sensor-3</th>\n      <td>0.100970</td>\n      <td>0.020825</td>\n      <td>1.000000</td>\n      <td>0.364564</td>\n      <td>0.065173</td>\n      <td>NaN</td>\n      <td>-0.278507</td>\n      <td>-0.683202</td>\n      <td>0.326166</td>\n      <td>0.221956</td>\n      <td>...</td>\n      <td>0.070021</td>\n      <td>0.253750</td>\n      <td>0.039091</td>\n      <td>0.021278</td>\n      <td>0.034628</td>\n      <td>-0.074197</td>\n      <td>0.088880</td>\n      <td>0.109317</td>\n      <td>0.114363</td>\n      <td>0.301747</td>\n    </tr>\n    <tr>\n      <th>Sensor-4</th>\n      <td>-0.198996</td>\n      <td>0.083883</td>\n      <td>0.364564</td>\n      <td>1.000000</td>\n      <td>0.517363</td>\n      <td>NaN</td>\n      <td>-0.889259</td>\n      <td>0.304394</td>\n      <td>0.199940</td>\n      <td>0.164810</td>\n      <td>...</td>\n      <td>-0.086621</td>\n      <td>0.068147</td>\n      <td>0.076245</td>\n      <td>0.090138</td>\n      <td>0.075786</td>\n      <td>-0.075850</td>\n      <td>-0.007325</td>\n      <td>-0.016494</td>\n      <td>0.032724</td>\n      <td>0.201612</td>\n    </tr>\n    <tr>\n      <th>Sensor-5</th>\n      <td>-0.244793</td>\n      <td>0.163761</td>\n      <td>0.065173</td>\n      <td>0.517363</td>\n      <td>1.000000</td>\n      <td>NaN</td>\n      <td>-0.543439</td>\n      <td>0.291460</td>\n      <td>0.180967</td>\n      <td>0.101561</td>\n      <td>...</td>\n      <td>-0.227416</td>\n      <td>-0.002327</td>\n      <td>-0.016044</td>\n      <td>-0.069025</td>\n      <td>-0.016287</td>\n      <td>-0.017722</td>\n      <td>0.192701</td>\n      <td>0.197198</td>\n      <td>0.183857</td>\n      <td>0.162364</td>\n    </tr>\n    <tr>\n      <th>...</th>\n      <td>...</td>\n      <td>...</td>\n      <td>...</td>\n      <td>...</td>\n      <td>...</td>\n      <td>...</td>\n      <td>...</td>\n      <td>...</td>\n      <td>...</td>\n      <td>...</td>\n      <td>...</td>\n      <td>...</td>\n      <td>...</td>\n      <td>...</td>\n      <td>...</td>\n      <td>...</td>\n      <td>...</td>\n      <td>...</td>\n      <td>...</td>\n      <td>...</td>\n      <td>...</td>\n    </tr>\n    <tr>\n      <th>Sensor-587</th>\n      <td>-0.149539</td>\n      <td>-0.043370</td>\n      <td>-0.074197</td>\n      <td>-0.075850</td>\n      <td>-0.017722</td>\n      <td>NaN</td>\n      <td>0.139181</td>\n      <td>0.069692</td>\n      <td>-0.031285</td>\n      <td>-0.138607</td>\n      <td>...</td>\n      <td>-0.405437</td>\n      <td>-0.019664</td>\n      <td>0.037172</td>\n      <td>0.076298</td>\n      <td>0.038514</td>\n      <td>1.000000</td>\n      <td>0.273511</td>\n      <td>0.262794</td>\n      <td>-0.511293</td>\n      <td>-0.054914</td>\n    </tr>\n    <tr>\n      <th>Sensor-588</th>\n      <td>0.018507</td>\n      <td>0.039487</td>\n      <td>0.088880</td>\n      <td>-0.007325</td>\n      <td>0.192701</td>\n      <td>NaN</td>\n      <td>0.042269</td>\n      <td>0.031813</td>\n      <td>0.134034</td>\n      <td>-0.090211</td>\n      <td>...</td>\n      <td>0.499645</td>\n      <td>-0.071864</td>\n      <td>0.116441</td>\n      <td>0.094689</td>\n      <td>0.116934</td>\n      <td>0.273511</td>\n      <td>1.000000</td>\n      <td>0.976905</td>\n      <td>0.605905</td>\n      <td>-0.101636</td>\n    </tr>\n    <tr>\n      <th>Sensor-589</th>\n      <td>-0.012796</td>\n      <td>0.031855</td>\n      <td>0.109317</td>\n      <td>-0.016494</td>\n      <td>0.197198</td>\n      <td>NaN</td>\n      <td>0.046724</td>\n      <td>0.008075</td>\n      <td>0.153953</td>\n      <td>-0.107615</td>\n      <td>...</td>\n      <td>0.451550</td>\n      <td>-0.044741</td>\n      <td>0.072776</td>\n      <td>0.050410</td>\n      <td>0.072741</td>\n      <td>0.262794</td>\n      <td>0.976905</td>\n      <td>1.000000</td>\n      <td>0.605447</td>\n      <td>-0.085591</td>\n    </tr>\n    <tr>\n      <th>Sensor-590</th>\n      <td>0.167713</td>\n      <td>0.056822</td>\n      <td>0.114363</td>\n      <td>0.032724</td>\n      <td>0.183857</td>\n      <td>NaN</td>\n      <td>-0.054253</td>\n      <td>-0.007885</td>\n      <td>0.149035</td>\n      <td>0.010122</td>\n      <td>...</td>\n      <td>1.000000</td>\n      <td>-0.086170</td>\n      <td>0.032028</td>\n      <td>-0.005596</td>\n      <td>0.031873</td>\n      <td>-0.511293</td>\n      <td>0.605905</td>\n      <td>0.605447</td>\n      <td>1.000000</td>\n      <td>-0.018571</td>\n    </tr>\n    <tr>\n      <th>Good/Bad</th>\n      <td>0.021608</td>\n      <td>-0.056293</td>\n      <td>0.301747</td>\n      <td>0.201612</td>\n      <td>0.162364</td>\n      <td>NaN</td>\n      <td>-0.105645</td>\n      <td>-0.245978</td>\n      <td>0.154444</td>\n      <td>0.234698</td>\n      <td>...</td>\n      <td>-0.182843</td>\n      <td>0.200569</td>\n      <td>-0.058351</td>\n      <td>-0.091851</td>\n      <td>-0.062407</td>\n      <td>-0.054914</td>\n      <td>-0.101636</td>\n      <td>-0.085591</td>\n      <td>-0.018571</td>\n      <td>1.000000</td>\n    </tr>\n  </tbody>\n</table>\n<p>591 rows × 591 columns</p>\n</div>"
     },
     "execution_count": 42,
     "metadata": {},
     "output_type": "execute_result"
    }
   ],
   "source": [
    "df[numerical_features].corr()"
   ],
   "metadata": {
    "collapsed": false,
    "ExecuteTime": {
     "end_time": "2023-08-02T07:42:39.173507507Z",
     "start_time": "2023-08-02T07:42:39.114044148Z"
    }
   },
   "id": "6aa7177a5a258d46"
  },
  {
   "cell_type": "code",
   "execution_count": 46,
   "outputs": [
    {
     "data": {
      "text/plain": "0     Wafer-801\n1     Wafer-802\n2     Wafer-803\n3     Wafer-804\n4     Wafer-805\n        ...    \n95    Wafer-896\n96    Wafer-897\n97    Wafer-898\n98    Wafer-899\n99    Wafer-900\nName: Unnamed: 0, Length: 100, dtype: object"
     },
     "execution_count": 46,
     "metadata": {},
     "output_type": "execute_result"
    }
   ],
   "source": [
    "df['Unnamed: 0']"
   ],
   "metadata": {
    "collapsed": false,
    "ExecuteTime": {
     "end_time": "2023-08-02T08:09:34.295193861Z",
     "start_time": "2023-08-02T08:09:34.249068885Z"
    }
   },
   "id": "38dc3a8c5be2b676"
  },
  {
   "cell_type": "code",
   "execution_count": null,
   "outputs": [],
   "source": [],
   "metadata": {
    "collapsed": false
   },
   "id": "767e294986dd367a"
  }
 ],
 "metadata": {
  "kernelspec": {
   "display_name": "Python 3",
   "language": "python",
   "name": "python3"
  },
  "language_info": {
   "codemirror_mode": {
    "name": "ipython",
    "version": 2
   },
   "file_extension": ".py",
   "mimetype": "text/x-python",
   "name": "python",
   "nbconvert_exporter": "python",
   "pygments_lexer": "ipython2",
   "version": "2.7.6"
  }
 },
 "nbformat": 4,
 "nbformat_minor": 5
}
